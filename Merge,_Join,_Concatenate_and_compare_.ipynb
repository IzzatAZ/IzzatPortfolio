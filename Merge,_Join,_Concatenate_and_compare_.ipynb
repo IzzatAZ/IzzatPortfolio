{
  "nbformat": 4,
  "nbformat_minor": 0,
  "metadata": {
    "colab": {
      "provenance": [],
      "collapsed_sections": [],
      "authorship_tag": "ABX9TyOdVSm18mf2SFg2iZ6+xJeu",
      "include_colab_link": true
    },
    "kernelspec": {
      "name": "python3",
      "display_name": "Python 3"
    },
    "language_info": {
      "name": "python"
    }
  },
  "cells": [
    {
      "cell_type": "markdown",
      "metadata": {
        "id": "view-in-github",
        "colab_type": "text"
      },
      "source": [
        "<a href=\"https://colab.research.google.com/github/hachi8roku6/IzzatPortfolio/blob/master/Merge%2C_Join%2C_Concatenate_and_compare_.ipynb\" target=\"_parent\"><img src=\"https://colab.research.google.com/assets/colab-badge.svg\" alt=\"Open In Colab\"/></a>"
      ]
    },
    {
      "cell_type": "markdown",
      "source": [
        "**PANDAS (Merge, join, concatenate and compare)**\n",
        "\n",
        "pandas provides various facilities for easily combining together Series or DataFrame with various kinds of set logic for the indexes and relational algebra functionality in the case of join / merge-type operations."
      ],
      "metadata": {
        "id": "GFcQeemWDEZm"
      }
    },
    {
      "cell_type": "code",
      "execution_count": 1,
      "metadata": {
        "id": "MU0eY-sXx4kW"
      },
      "outputs": [],
      "source": [
        "import pandas as pd"
      ]
    },
    {
      "cell_type": "markdown",
      "source": [
        "Select any data in table form that you want to do as example like below:"
      ],
      "metadata": {
        "id": "zjMYIQdoDNK8"
      }
    },
    {
      "cell_type": "code",
      "source": [
        "df1 = pd.DataFrame({\"Week 1\": [\"A0\", \"A1\", \"A2\", \"A3\"],\n",
        "        \"Week 2\": [\"B0\", \"B1\", \"B2\", \"B3\"],\n",
        "        \"Week 3\": [\"C0\", \"C1\", \"C2\", \"C3\"],\n",
        "        \"Week 4\": [\"D0\", \"D1\", \"D2\", \"D3\"],}, index = ['Jan','Feb','Mac','Apr'],)"
      ],
      "metadata": {
        "id": "16biadhix_t2"
      },
      "execution_count": 34,
      "outputs": []
    },
    {
      "cell_type": "markdown",
      "source": [
        "After that try to print out our data "
      ],
      "metadata": {
        "id": "oPlGt-h9F2jC"
      }
    },
    {
      "cell_type": "code",
      "source": [
        "print(df1)"
      ],
      "metadata": {
        "colab": {
          "base_uri": "https://localhost:8080/"
        },
        "id": "aHtCDKWOyiPv",
        "outputId": "251fdec5-1547-400f-b6ce-e506c5eb3a88"
      },
      "execution_count": 35,
      "outputs": [
        {
          "output_type": "stream",
          "name": "stdout",
          "text": [
            "    Week 1 Week 2 Week 3 Week 4\n",
            "Jan     A0     B0     C0     D0\n",
            "Feb     A1     B1     C1     D1\n",
            "Mac     A2     B2     C2     D2\n",
            "Apr     A3     B3     C3     D3\n"
          ]
        }
      ]
    },
    {
      "cell_type": "code",
      "source": [
        "df2 = pd.DataFrame({\"Week 1\": [\"A4\", \"A5\", \"A6\", \"A7\"],\n",
        "        \"Week 2\": [\"B4\", \"B5\", \"B6\", \"B7\"],\n",
        "        \"Week 3\": [\"C4\", \"C5\", \"C6\", \"C7\"],\n",
        "        \"Week 4\": [\"D4\", \"D5\", \"D6\", \"D7\"],}, index = ['May','Jun','July','Aug'],)"
      ],
      "metadata": {
        "id": "LwRovFJYzUEh"
      },
      "execution_count": 25,
      "outputs": []
    },
    {
      "cell_type": "code",
      "source": [
        "print(df2)"
      ],
      "metadata": {
        "colab": {
          "base_uri": "https://localhost:8080/"
        },
        "id": "JZjxyR2BzhTC",
        "outputId": "26c19d41-4246-469c-8e63-636e103a51c2"
      },
      "execution_count": 26,
      "outputs": [
        {
          "output_type": "stream",
          "name": "stdout",
          "text": [
            "     Week 1 Week 2 Week 3 Week 4\n",
            "May      A4     B4     C4     D4\n",
            "Jun      A5     B5     C5     D5\n",
            "July     A6     B6     C6     D6\n",
            "Aug      A7     B7     C7     D7\n"
          ]
        }
      ]
    },
    {
      "cell_type": "code",
      "source": [
        "df3 = pd.DataFrame({\"Week 1\": [\"A8\", \"A9\", \"A10\", \"A11\"],\n",
        "        \"Week 2\": [\"B8\", \"B9\", \"B10\", \"B11\"],\n",
        "        \"Week 3\": [\"C8\", \"C9\", \"C10\", \"C11\"],\n",
        "        \"Week 4\": [\"D8\", \"D9\", \"D10\", \"D11\"],}, index = ['Sep','Oct','Nov','Dec'],)"
      ],
      "metadata": {
        "id": "Qxaytfa2zrws"
      },
      "execution_count": 27,
      "outputs": []
    },
    {
      "cell_type": "code",
      "source": [
        "print(df3)"
      ],
      "metadata": {
        "colab": {
          "base_uri": "https://localhost:8080/"
        },
        "id": "HfRBF1nTzrzN",
        "outputId": "62a9a1e2-2172-489f-ae8f-e25eb0a41d55"
      },
      "execution_count": 28,
      "outputs": [
        {
          "output_type": "stream",
          "name": "stdout",
          "text": [
            "    Week 1 Week 2 Week 3 Week 4\n",
            "Sep     A8     B8     C8     D8\n",
            "Oct     A9     B9     C9     D9\n",
            "Nov    A10    B10    C10    D10\n",
            "Dec    A11    B11    C11    D11\n"
          ]
        }
      ]
    },
    {
      "cell_type": "code",
      "source": [
        "frames = [df1,df2,df3]"
      ],
      "metadata": {
        "id": "8K7JrTkMz7tO"
      },
      "execution_count": 36,
      "outputs": []
    },
    {
      "cell_type": "code",
      "source": [
        "result = pd.concat(frames)"
      ],
      "metadata": {
        "id": "X_PBYUbEz7vV"
      },
      "execution_count": 37,
      "outputs": []
    },
    {
      "cell_type": "code",
      "source": [
        "print(result)"
      ],
      "metadata": {
        "colab": {
          "base_uri": "https://localhost:8080/"
        },
        "id": "l7rP44uB0GIJ",
        "outputId": "5265a344-6d06-4774-b50b-87033cdfa1d7"
      },
      "execution_count": 42,
      "outputs": [
        {
          "output_type": "stream",
          "name": "stdout",
          "text": [
            "       Week 1 Week 2 Week 3 Week 4\n",
            "x Jan      A0     B0     C0     D0\n",
            "  Feb      A1     B1     C1     D1\n",
            "  Mac      A2     B2     C2     D2\n",
            "  Apr      A3     B3     C3     D3\n",
            "y May      A4     B4     C4     D4\n",
            "  Jun      A5     B5     C5     D5\n",
            "  July     A6     B6     C6     D6\n",
            "  Aug      A7     B7     C7     D7\n",
            "z Sep      A8     B8     C8     D8\n",
            "  Oct      A9     B9     C9     D9\n",
            "  Nov     A10    B10    C10    D10\n",
            "  Dec     A11    B11    C11    D11\n"
          ]
        }
      ]
    },
    {
      "cell_type": "code",
      "source": [
        "result = pd.concat(frames, keys=[\"x\", \"y\", \"z\"])"
      ],
      "metadata": {
        "id": "9YRSZ-KY0pzD"
      },
      "execution_count": 39,
      "outputs": []
    },
    {
      "cell_type": "code",
      "source": [
        "print(result)"
      ],
      "metadata": {
        "colab": {
          "base_uri": "https://localhost:8080/"
        },
        "id": "H2RwoiUI0u3h",
        "outputId": "e8ffc061-2c86-42af-e7fd-8f484e7b8560"
      },
      "execution_count": 40,
      "outputs": [
        {
          "output_type": "stream",
          "name": "stdout",
          "text": [
            "       Week 1 Week 2 Week 3 Week 4\n",
            "x Jan      A0     B0     C0     D0\n",
            "  Feb      A1     B1     C1     D1\n",
            "  Mac      A2     B2     C2     D2\n",
            "  Apr      A3     B3     C3     D3\n",
            "y May      A4     B4     C4     D4\n",
            "  Jun      A5     B5     C5     D5\n",
            "  July     A6     B6     C6     D6\n",
            "  Aug      A7     B7     C7     D7\n",
            "z Sep      A8     B8     C8     D8\n",
            "  Oct      A9     B9     C9     D9\n",
            "  Nov     A10    B10    C10    D10\n",
            "  Dec     A11    B11    C11    D11\n"
          ]
        }
      ]
    },
    {
      "cell_type": "code",
      "source": [
        "result.loc[\"y\"]"
      ],
      "metadata": {
        "colab": {
          "base_uri": "https://localhost:8080/",
          "height": 175
        },
        "id": "u_AoUIp7Iste",
        "outputId": "a07f0148-b8ce-406d-9082-133345f2d828"
      },
      "execution_count": 46,
      "outputs": [
        {
          "output_type": "execute_result",
          "data": {
            "text/plain": [
              "     Week 1 Week 2 Week 3 Week 4\n",
              "May      A4     B4     C4     D4\n",
              "Jun      A5     B5     C5     D5\n",
              "July     A6     B6     C6     D6\n",
              "Aug      A7     B7     C7     D7"
            ],
            "text/html": [
              "\n",
              "  <div id=\"df-0edf4b9d-d044-42a5-80c2-7d77b520fbb4\">\n",
              "    <div class=\"colab-df-container\">\n",
              "      <div>\n",
              "<style scoped>\n",
              "    .dataframe tbody tr th:only-of-type {\n",
              "        vertical-align: middle;\n",
              "    }\n",
              "\n",
              "    .dataframe tbody tr th {\n",
              "        vertical-align: top;\n",
              "    }\n",
              "\n",
              "    .dataframe thead th {\n",
              "        text-align: right;\n",
              "    }\n",
              "</style>\n",
              "<table border=\"1\" class=\"dataframe\">\n",
              "  <thead>\n",
              "    <tr style=\"text-align: right;\">\n",
              "      <th></th>\n",
              "      <th>Week 1</th>\n",
              "      <th>Week 2</th>\n",
              "      <th>Week 3</th>\n",
              "      <th>Week 4</th>\n",
              "    </tr>\n",
              "  </thead>\n",
              "  <tbody>\n",
              "    <tr>\n",
              "      <th>May</th>\n",
              "      <td>A4</td>\n",
              "      <td>B4</td>\n",
              "      <td>C4</td>\n",
              "      <td>D4</td>\n",
              "    </tr>\n",
              "    <tr>\n",
              "      <th>Jun</th>\n",
              "      <td>A5</td>\n",
              "      <td>B5</td>\n",
              "      <td>C5</td>\n",
              "      <td>D5</td>\n",
              "    </tr>\n",
              "    <tr>\n",
              "      <th>July</th>\n",
              "      <td>A6</td>\n",
              "      <td>B6</td>\n",
              "      <td>C6</td>\n",
              "      <td>D6</td>\n",
              "    </tr>\n",
              "    <tr>\n",
              "      <th>Aug</th>\n",
              "      <td>A7</td>\n",
              "      <td>B7</td>\n",
              "      <td>C7</td>\n",
              "      <td>D7</td>\n",
              "    </tr>\n",
              "  </tbody>\n",
              "</table>\n",
              "</div>\n",
              "      <button class=\"colab-df-convert\" onclick=\"convertToInteractive('df-0edf4b9d-d044-42a5-80c2-7d77b520fbb4')\"\n",
              "              title=\"Convert this dataframe to an interactive table.\"\n",
              "              style=\"display:none;\">\n",
              "        \n",
              "  <svg xmlns=\"http://www.w3.org/2000/svg\" height=\"24px\"viewBox=\"0 0 24 24\"\n",
              "       width=\"24px\">\n",
              "    <path d=\"M0 0h24v24H0V0z\" fill=\"none\"/>\n",
              "    <path d=\"M18.56 5.44l.94 2.06.94-2.06 2.06-.94-2.06-.94-.94-2.06-.94 2.06-2.06.94zm-11 1L8.5 8.5l.94-2.06 2.06-.94-2.06-.94L8.5 2.5l-.94 2.06-2.06.94zm10 10l.94 2.06.94-2.06 2.06-.94-2.06-.94-.94-2.06-.94 2.06-2.06.94z\"/><path d=\"M17.41 7.96l-1.37-1.37c-.4-.4-.92-.59-1.43-.59-.52 0-1.04.2-1.43.59L10.3 9.45l-7.72 7.72c-.78.78-.78 2.05 0 2.83L4 21.41c.39.39.9.59 1.41.59.51 0 1.02-.2 1.41-.59l7.78-7.78 2.81-2.81c.8-.78.8-2.07 0-2.86zM5.41 20L4 18.59l7.72-7.72 1.47 1.35L5.41 20z\"/>\n",
              "  </svg>\n",
              "      </button>\n",
              "      \n",
              "  <style>\n",
              "    .colab-df-container {\n",
              "      display:flex;\n",
              "      flex-wrap:wrap;\n",
              "      gap: 12px;\n",
              "    }\n",
              "\n",
              "    .colab-df-convert {\n",
              "      background-color: #E8F0FE;\n",
              "      border: none;\n",
              "      border-radius: 50%;\n",
              "      cursor: pointer;\n",
              "      display: none;\n",
              "      fill: #1967D2;\n",
              "      height: 32px;\n",
              "      padding: 0 0 0 0;\n",
              "      width: 32px;\n",
              "    }\n",
              "\n",
              "    .colab-df-convert:hover {\n",
              "      background-color: #E2EBFA;\n",
              "      box-shadow: 0px 1px 2px rgba(60, 64, 67, 0.3), 0px 1px 3px 1px rgba(60, 64, 67, 0.15);\n",
              "      fill: #174EA6;\n",
              "    }\n",
              "\n",
              "    [theme=dark] .colab-df-convert {\n",
              "      background-color: #3B4455;\n",
              "      fill: #D2E3FC;\n",
              "    }\n",
              "\n",
              "    [theme=dark] .colab-df-convert:hover {\n",
              "      background-color: #434B5C;\n",
              "      box-shadow: 0px 1px 3px 1px rgba(0, 0, 0, 0.15);\n",
              "      filter: drop-shadow(0px 1px 2px rgba(0, 0, 0, 0.3));\n",
              "      fill: #FFFFFF;\n",
              "    }\n",
              "  </style>\n",
              "\n",
              "      <script>\n",
              "        const buttonEl =\n",
              "          document.querySelector('#df-0edf4b9d-d044-42a5-80c2-7d77b520fbb4 button.colab-df-convert');\n",
              "        buttonEl.style.display =\n",
              "          google.colab.kernel.accessAllowed ? 'block' : 'none';\n",
              "\n",
              "        async function convertToInteractive(key) {\n",
              "          const element = document.querySelector('#df-0edf4b9d-d044-42a5-80c2-7d77b520fbb4');\n",
              "          const dataTable =\n",
              "            await google.colab.kernel.invokeFunction('convertToInteractive',\n",
              "                                                     [key], {});\n",
              "          if (!dataTable) return;\n",
              "\n",
              "          const docLinkHtml = 'Like what you see? Visit the ' +\n",
              "            '<a target=\"_blank\" href=https://colab.research.google.com/notebooks/data_table.ipynb>data table notebook</a>'\n",
              "            + ' to learn more about interactive tables.';\n",
              "          element.innerHTML = '';\n",
              "          dataTable['output_type'] = 'display_data';\n",
              "          await google.colab.output.renderOutput(dataTable, element);\n",
              "          const docLink = document.createElement('div');\n",
              "          docLink.innerHTML = docLinkHtml;\n",
              "          element.appendChild(docLink);\n",
              "        }\n",
              "      </script>\n",
              "    </div>\n",
              "  </div>\n",
              "  "
            ]
          },
          "metadata": {},
          "execution_count": 46
        }
      ]
    }
  ]
}